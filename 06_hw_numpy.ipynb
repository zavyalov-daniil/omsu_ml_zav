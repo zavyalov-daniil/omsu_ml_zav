{
  "cells": [
    {
      "cell_type": "markdown",
      "metadata": {
        "id": "view-in-github",
        "colab_type": "text"
      },
      "source": [
        "<a href=\"https://colab.research.google.com/github/zavyalov-daniil/omsu_ml_zav/blob/main/06_hw_numpy.ipynb\" target=\"_parent\"><img src=\"https://colab.research.google.com/assets/colab-badge.svg\" alt=\"Open In Colab\"/></a>"
      ]
    },
    {
      "cell_type": "markdown",
      "metadata": {
        "id": "m4u7K4hlzRy_"
      },
      "source": [
        "# Worshop 2.1 Numpy\n",
        "\n",
        "1. Скачайте этот ноутбук к себе.\n",
        "2. Заполните пропущенные ячейки, отвечая на заданные вопросы. Там должен быть код! (если не сказано обратное)\n",
        "3. Сохраните результат в своём гитхаб репозитории.\n",
        "\n",
        "#### Полезная литература\n",
        "\n",
        "- http://www.numpy.org/\n",
        "- https://jakevdp.github.io/PythonDataScienceHandbook/02.00-introduction-to-numpy.html\n",
        "- https://docs.scipy.org/doc/numpy/user/quickstart.html"
      ]
    },
    {
      "cell_type": "markdown",
      "metadata": {
        "id": "gA4e2tV5zRzE"
      },
      "source": [
        "1) Импортировать numpy и написать версию"
      ]
    },
    {
      "cell_type": "code",
      "execution_count": 2,
      "metadata": {
        "colab": {
          "base_uri": "https://localhost:8080/"
        },
        "id": "HUtEqlE3zRzF",
        "outputId": "4bc1ca9d-c0a5-48a5-b622-15c1eb5b17f5"
      },
      "outputs": [
        {
          "output_type": "stream",
          "name": "stdout",
          "text": [
            "1.21.6\n"
          ]
        }
      ],
      "source": [
        "import numpy as np\n",
        "print(np.__version__)"
      ]
    },
    {
      "cell_type": "markdown",
      "metadata": {
        "id": "s3j-RxWWzRzF"
      },
      "source": [
        "2) Создать нулевой вектор размера 10"
      ]
    },
    {
      "cell_type": "code",
      "execution_count": 3,
      "metadata": {
        "colab": {
          "base_uri": "https://localhost:8080/"
        },
        "id": "KH8fWs-szRzG",
        "outputId": "9698767d-8460-4e84-a899-db9caf983ac3"
      },
      "outputs": [
        {
          "output_type": "execute_result",
          "data": {
            "text/plain": [
              "array([0., 0., 0., 0., 0., 0., 0., 0., 0., 0.])"
            ]
          },
          "metadata": {},
          "execution_count": 3
        }
      ],
      "source": [
        "np.zeros(10)"
      ]
    },
    {
      "cell_type": "markdown",
      "metadata": {
        "id": "rkjW-KLAzRzG"
      },
      "source": [
        "3) Создать вектор заполненный 7-ами размера 7"
      ]
    },
    {
      "cell_type": "code",
      "execution_count": 4,
      "metadata": {
        "colab": {
          "base_uri": "https://localhost:8080/"
        },
        "id": "pNg6SBNDzRzH",
        "outputId": "e00e648c-f0b3-475c-a344-a8fe373bd577"
      },
      "outputs": [
        {
          "output_type": "execute_result",
          "data": {
            "text/plain": [
              "array([7, 7, 7, 7, 7, 7, 7])"
            ]
          },
          "metadata": {},
          "execution_count": 4
        }
      ],
      "source": [
        "np.full(7, 7)"
      ]
    },
    {
      "cell_type": "markdown",
      "metadata": {
        "id": "DgPx9L9xzRzH"
      },
      "source": [
        "4) Создать вектор заполненный четными числами от 10 до 100"
      ]
    },
    {
      "cell_type": "code",
      "execution_count": 5,
      "metadata": {
        "colab": {
          "base_uri": "https://localhost:8080/"
        },
        "id": "7_0eFl17zRzI",
        "outputId": "04fbc142-684b-488d-ba2b-a1764d0c0b20"
      },
      "outputs": [
        {
          "output_type": "execute_result",
          "data": {
            "text/plain": [
              "array([ 10,  12,  14,  16,  18,  20,  22,  24,  26,  28,  30,  32,  34,\n",
              "        36,  38,  40,  42,  44,  46,  48,  50,  52,  54,  56,  58,  60,\n",
              "        62,  64,  66,  68,  70,  72,  74,  76,  78,  80,  82,  84,  86,\n",
              "        88,  90,  92,  94,  96,  98, 100])"
            ]
          },
          "metadata": {},
          "execution_count": 5
        }
      ],
      "source": [
        "np.arange(10,101,2)"
      ]
    },
    {
      "cell_type": "markdown",
      "metadata": {
        "id": "Obuf_yN8zRzI"
      },
      "source": [
        "5) Создать массив случайных чисел и развернуть его задом наперёд"
      ]
    },
    {
      "cell_type": "code",
      "execution_count": 15,
      "metadata": {
        "colab": {
          "base_uri": "https://localhost:8080/"
        },
        "id": "tjyVQPEZzRzJ",
        "outputId": "d5288745-24b1-430c-9666-2eaee6794843"
      },
      "outputs": [
        {
          "output_type": "stream",
          "name": "stdout",
          "text": [
            "[-0.40796182  1.26122997  1.06017453  1.60776776]\n"
          ]
        },
        {
          "output_type": "execute_result",
          "data": {
            "text/plain": [
              "array([ 1.60776776,  1.06017453,  1.26122997, -0.40796182])"
            ]
          },
          "metadata": {},
          "execution_count": 15
        }
      ],
      "source": [
        "arr = np.random.randn(4)\n",
        "print(arr)\n",
        "arr[::-1]"
      ]
    },
    {
      "cell_type": "markdown",
      "metadata": {
        "id": "7_f2CWlczRzJ"
      },
      "source": [
        "6) Создать двумерную матрицу размера 3 на 3, заполненную числами от 0 до 9"
      ]
    },
    {
      "cell_type": "code",
      "execution_count": 18,
      "metadata": {
        "colab": {
          "base_uri": "https://localhost:8080/"
        },
        "id": "MPA2U-sqzRzJ",
        "outputId": "0201d72a-c621-4331-db25-14ff6cc7c489"
      },
      "outputs": [
        {
          "output_type": "execute_result",
          "data": {
            "text/plain": [
              "array([[0, 1, 2],\n",
              "       [3, 4, 5],\n",
              "       [6, 7, 8]])"
            ]
          },
          "metadata": {},
          "execution_count": 18
        }
      ],
      "source": [
        "np.arange(0,9).reshape(3,3)"
      ]
    },
    {
      "cell_type": "markdown",
      "metadata": {
        "id": "q8BL58pJzRzK"
      },
      "source": [
        "7) Создать матрицу размера 4 на 4 с единицами на диагонали смещеной на один наверх."
      ]
    },
    {
      "cell_type": "code",
      "execution_count": 20,
      "metadata": {
        "colab": {
          "base_uri": "https://localhost:8080/"
        },
        "id": "Anq9TgbYzRzK",
        "outputId": "cc293909-bcca-4c7e-f524-1beaca365b90"
      },
      "outputs": [
        {
          "output_type": "execute_result",
          "data": {
            "text/plain": [
              "array([[0., 1., 0., 0.],\n",
              "       [0., 0., 1., 0.],\n",
              "       [0., 0., 0., 1.],\n",
              "       [0., 0., 0., 0.]])"
            ]
          },
          "metadata": {},
          "execution_count": 20
        }
      ],
      "source": [
        "np.eye(5)[1:5,0:4]"
      ]
    },
    {
      "cell_type": "markdown",
      "metadata": {
        "id": "ZRTxwP42zRzK"
      },
      "source": [
        "8) Создать матрицу с числами в диапазоне от 1 до 4 по диагонали. В других ячейках матрицы должны быть семерки."
      ]
    },
    {
      "cell_type": "code",
      "execution_count": 30,
      "metadata": {
        "colab": {
          "base_uri": "https://localhost:8080/"
        },
        "id": "o5znkyxtzRzL",
        "outputId": "a2b062e5-c411-4966-a23a-01e5dfd8c690"
      },
      "outputs": [
        {
          "output_type": "execute_result",
          "data": {
            "text/plain": [
              "array([[4, 7, 7, 7, 7, 7, 7],\n",
              "       [7, 1, 7, 7, 7, 7, 7],\n",
              "       [7, 7, 4, 7, 7, 7, 7],\n",
              "       [7, 7, 7, 2, 7, 7, 7],\n",
              "       [7, 7, 7, 7, 4, 7, 7],\n",
              "       [7, 7, 7, 7, 7, 4, 7],\n",
              "       [7, 7, 7, 7, 7, 7, 3]])"
            ]
          },
          "metadata": {},
          "execution_count": 30
        }
      ],
      "source": [
        "m1 = np.full((7,7), 7)\n",
        "m2 = np.diag(np.random.randint(3,7, size=7))\n",
        "m1 - m2"
      ]
    },
    {
      "cell_type": "markdown",
      "metadata": {
        "id": "kINwASHbzRzL"
      },
      "source": [
        "9) Создать матрицу размера 5 на 5 заполненную чилами от 0 до 4 в строках."
      ]
    },
    {
      "cell_type": "code",
      "execution_count": 31,
      "metadata": {
        "colab": {
          "base_uri": "https://localhost:8080/"
        },
        "id": "TFJN4Vf3zRzL",
        "outputId": "578a6f4d-4c82-4a67-af13-99416e8355e1"
      },
      "outputs": [
        {
          "output_type": "execute_result",
          "data": {
            "text/plain": [
              "array([[0., 1., 2., 3., 4.],\n",
              "       [0., 1., 2., 3., 4.],\n",
              "       [0., 1., 2., 3., 4.],\n",
              "       [0., 1., 2., 3., 4.],\n",
              "       [0., 1., 2., 3., 4.]])"
            ]
          },
          "metadata": {},
          "execution_count": 31
        }
      ],
      "source": [
        "x = np.zeros((5,5))\n",
        "x + np.arange(5)"
      ]
    },
    {
      "cell_type": "markdown",
      "metadata": {
        "id": "ScGWEbD8zRzM"
      },
      "source": [
        "10) Создать матрицу случайных чисел размера 10 на 10 и отнять среднее по строкам из каждого элемента строки"
      ]
    },
    {
      "cell_type": "code",
      "execution_count": 49,
      "metadata": {
        "colab": {
          "base_uri": "https://localhost:8080/"
        },
        "id": "Z6sj3RjfzRzM",
        "outputId": "98c21988-bd82-4e41-f4cb-2391757a1b8f"
      },
      "outputs": [
        {
          "output_type": "stream",
          "name": "stdout",
          "text": [
            "[[9 1 2 6 5 7 5 3 3 6]\n",
            " [4 9 2 0 2 3 0 6 6 9]\n",
            " [1 8 8 4 2 5 7 1 6 7]\n",
            " [6 7 9 2 2 0 2 1 6 8]\n",
            " [8 5 8 2 5 4 2 7 4 7]\n",
            " [9 7 6 5 1 0 3 3 8 3]\n",
            " [6 7 8 2 0 0 8 3 1 8]\n",
            " [3 1 4 3 7 8 6 5 5 8]\n",
            " [4 5 2 4 2 8 7 5 6 4]\n",
            " [3 1 5 1 1 9 0 9 3 4]]\n"
          ]
        },
        {
          "output_type": "execute_result",
          "data": {
            "text/plain": [
              "array([[ 4.3, -3.7, -2.7,  1.3,  0.3,  2.3,  0.3, -1.7, -1.7,  1.3],\n",
              "       [-0.1,  4.9, -2.1, -4.1, -2.1, -1.1, -4.1,  1.9,  1.9,  4.9],\n",
              "       [-3.9,  3.1,  3.1, -0.9, -2.9,  0.1,  2.1, -3.9,  1.1,  2.1],\n",
              "       [ 1.7,  2.7,  4.7, -2.3, -2.3, -4.3, -2.3, -3.3,  1.7,  3.7],\n",
              "       [ 2.8, -0.2,  2.8, -3.2, -0.2, -1.2, -3.2,  1.8, -1.2,  1.8],\n",
              "       [ 4.5,  2.5,  1.5,  0.5, -3.5, -4.5, -1.5, -1.5,  3.5, -1.5],\n",
              "       [ 1.7,  2.7,  3.7, -2.3, -4.3, -4.3,  3.7, -1.3, -3.3,  3.7],\n",
              "       [-2. , -4. , -1. , -2. ,  2. ,  3. ,  1. ,  0. ,  0. ,  3. ],\n",
              "       [-0.7,  0.3, -2.7, -0.7, -2.7,  3.3,  2.3,  0.3,  1.3, -0.7],\n",
              "       [-0.6, -2.6,  1.4, -2.6, -2.6,  5.4, -3.6,  5.4, -0.6,  0.4]])"
            ]
          },
          "metadata": {},
          "execution_count": 49
        }
      ],
      "source": [
        "m = np.random.randint(10, size=(10,10))\n",
        "print(m)\n",
        "m - m.mean(axis=1, keepdims=True)"
      ]
    },
    {
      "cell_type": "markdown",
      "metadata": {
        "id": "mDcVO2tWzRzM"
      },
      "source": [
        "11) Создать матрицу случайных чисел размера 10 на 10 и отнять медиану по столбцам из каждого элемента столбца  "
      ]
    },
    {
      "cell_type": "code",
      "execution_count": 53,
      "metadata": {
        "colab": {
          "base_uri": "https://localhost:8080/"
        },
        "id": "M81obeH6zRzN",
        "outputId": "c7e7bf4b-8f61-4b79-bc72-24af73cc64b8"
      },
      "outputs": [
        {
          "output_type": "stream",
          "name": "stdout",
          "text": [
            "[[4 1 9 6 3 6 3 5 3 9]\n",
            " [3 2 0 9 4 6 5 0 5 3]\n",
            " [6 8 8 7 2 3 2 3 4 2]\n",
            " [5 0 8 8 5 8 8 8 8 6]\n",
            " [1 8 3 8 2 2 6 7 3 8]\n",
            " [8 0 7 8 4 9 5 3 1 4]\n",
            " [1 0 8 7 9 6 2 2 4 1]\n",
            " [8 0 7 4 3 0 5 9 0 2]\n",
            " [1 3 8 9 4 2 7 9 4 6]\n",
            " [2 3 4 6 3 7 1 2 4 9]]\n"
          ]
        },
        {
          "output_type": "execute_result",
          "data": {
            "text/plain": [
              "array([[-0.5, -3.5,  4.5,  1.5, -1.5,  1.5, -1.5,  0.5, -1.5,  4.5],\n",
              "       [-0.5, -1.5, -3.5,  5.5,  0.5,  2.5,  1.5, -3.5,  1.5, -0.5],\n",
              "       [ 2.5,  4.5,  4.5,  3.5, -1.5, -0.5, -1.5, -0.5,  0.5, -1.5],\n",
              "       [-3. , -8. ,  0. ,  0. , -3. ,  0. ,  0. ,  0. ,  0. , -2. ],\n",
              "       [-3.5,  3.5, -1.5,  3.5, -2.5, -2.5,  1.5,  2.5, -1.5,  3.5],\n",
              "       [ 3.5, -4.5,  2.5,  3.5, -0.5,  4.5,  0.5, -1.5, -3.5, -0.5],\n",
              "       [-2. , -3. ,  5. ,  4. ,  6. ,  3. , -1. , -1. ,  1. , -2. ],\n",
              "       [ 4.5, -3.5,  3.5,  0.5, -0.5, -3.5,  1.5,  5.5, -3.5, -1.5],\n",
              "       [-4. , -2. ,  3. ,  4. , -1. , -3. ,  2. ,  4. , -1. ,  1. ],\n",
              "       [-1.5, -0.5,  0.5,  2.5, -0.5,  3.5, -2.5, -1.5,  0.5,  5.5]])"
            ]
          },
          "metadata": {},
          "execution_count": 53
        }
      ],
      "source": [
        "m = np.random.randint(10, size=(10,10))\n",
        "print(m)\n",
        "m - np.median(m, axis=1, keepdims=True) "
      ]
    },
    {
      "cell_type": "markdown",
      "metadata": {
        "id": "qpev37zIzRzN"
      },
      "source": [
        "12) Создать матрицу случайных чисел 5x5. Добавить к ней столбецы максимумов и минимумов по строкам. Получится матрица 5x7.  "
      ]
    },
    {
      "cell_type": "code",
      "execution_count": 66,
      "metadata": {
        "colab": {
          "base_uri": "https://localhost:8080/"
        },
        "id": "4zPwhA9NzRzN",
        "outputId": "4ae89ba1-9731-43e3-81b1-2e0671db0c35"
      },
      "outputs": [
        {
          "output_type": "stream",
          "name": "stdout",
          "text": [
            "[[7 4 2 5 5]\n",
            " [1 3 0 1 8]\n",
            " [1 3 0 4 9]\n",
            " [0 7 6 4 4]\n",
            " [3 1 4 7 5]]\n"
          ]
        },
        {
          "output_type": "execute_result",
          "data": {
            "text/plain": [
              "array([[7, 4, 2, 5, 5, 7, 2],\n",
              "       [1, 3, 0, 1, 8, 8, 0],\n",
              "       [1, 3, 0, 4, 9, 9, 0],\n",
              "       [0, 7, 6, 4, 4, 7, 0],\n",
              "       [3, 1, 4, 7, 5, 7, 1]])"
            ]
          },
          "metadata": {},
          "execution_count": 66
        }
      ],
      "source": [
        "m = np.random.randint(10, size=(5,5))\n",
        "print(m)\n",
        "mx = np.amax(m, axis=1, keepdims=True)\n",
        "mn = np.amin(m, axis=1, keepdims=True)\n",
        "np.concatenate((m,mx, mn), axis=1)"
      ]
    },
    {
      "cell_type": "markdown",
      "metadata": {
        "id": "61J7tJRtzRzN"
      },
      "source": [
        "13) Вектор чисел от 1 до 51 преобразовать в вектор нечетных чисел и в вектор четных чисел, поменять их размерности, чтобы получились две матрица. Найти произведение этих матриц. Найти обратную матрицу эётого произведения.  "
      ]
    },
    {
      "cell_type": "code",
      "execution_count": 78,
      "metadata": {
        "colab": {
          "base_uri": "https://localhost:8080/"
        },
        "id": "-1EZzV5pzRzN",
        "outputId": "dbb84eff-053d-464f-faa0-c58e9f92c5f7"
      },
      "outputs": [
        {
          "output_type": "stream",
          "name": "stdout",
          "text": [
            "[[ 1  3  5  7  9]\n",
            " [11 13 15 17 19]\n",
            " [21 23 25 27 29]\n",
            " [31 33 35 37 39]\n",
            " [41 43 45 47 49]]\n",
            "[[ 2  4  6  8 10]\n",
            " [12 14 16 18 20]\n",
            " [22 24 26 28 30]\n",
            " [32 34 36 38 40]\n",
            " [42 44 46 48 50]]\n",
            "[[ 750  800  850  900  950]\n",
            " [1850 2000 2150 2300 2450]\n",
            " [2950 3200 3450 3700 3950]\n",
            " [4050 4400 4750 5100 5450]\n",
            " [5150 5600 6050 6500 6950]]\n"
          ]
        }
      ],
      "source": [
        "m = np.arange(1,51)\n",
        "a = m[m%2!=0].reshape((5,5))\n",
        "b= m[m%2==0].reshape((5,5))\n",
        "print(a)\n",
        "print(b)\n",
        "p=np.matmul(a,b)\n",
        "print(p)\n",
        "#p1=np.linalg.inv(p)"
      ]
    },
    {
      "cell_type": "markdown",
      "metadata": {
        "id": "89O0gizSzRzN"
      },
      "source": [
        "14) Создать 8x8 матрицу и заполнить её в шахматном порядке нулями и единицами. "
      ]
    },
    {
      "cell_type": "code",
      "execution_count": 80,
      "metadata": {
        "colab": {
          "base_uri": "https://localhost:8080/"
        },
        "id": "BphDY-gbzRzO",
        "outputId": "45a5c9c7-4ce0-45bf-85be-db145073b73d"
      },
      "outputs": [
        {
          "output_type": "stream",
          "name": "stdout",
          "text": [
            "[[0. 1. 0. 1. 0. 1. 0. 1.]\n",
            " [1. 0. 1. 0. 1. 0. 1. 0.]\n",
            " [0. 1. 0. 1. 0. 1. 0. 1.]\n",
            " [1. 0. 1. 0. 1. 0. 1. 0.]\n",
            " [0. 1. 0. 1. 0. 1. 0. 1.]\n",
            " [1. 0. 1. 0. 1. 0. 1. 0.]\n",
            " [0. 1. 0. 1. 0. 1. 0. 1.]\n",
            " [1. 0. 1. 0. 1. 0. 1. 0.]]\n"
          ]
        }
      ],
      "source": [
        "x = np.zeros((8, 8))\n",
        "x[::2, 1::2] = 1\n",
        "x[1::2, ::2] = 1\n",
        "print(x)"
      ]
    }
  ],
  "metadata": {
    "kernelspec": {
      "display_name": "Python 3",
      "language": "python",
      "name": "python3"
    },
    "language_info": {
      "codemirror_mode": {
        "name": "ipython",
        "version": 3
      },
      "file_extension": ".py",
      "mimetype": "text/x-python",
      "name": "python",
      "nbconvert_exporter": "python",
      "pygments_lexer": "ipython3",
      "version": "3.8.0"
    },
    "colab": {
      "provenance": [],
      "collapsed_sections": [],
      "include_colab_link": true
    }
  },
  "nbformat": 4,
  "nbformat_minor": 0
}